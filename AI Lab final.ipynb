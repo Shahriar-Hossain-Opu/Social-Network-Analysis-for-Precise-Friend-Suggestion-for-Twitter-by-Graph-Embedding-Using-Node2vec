{
 "cells": [
  {
   "cell_type": "markdown",
   "id": "0c95e879",
   "metadata": {},
   "source": [
    "# Node2vec"
   ]
  },
  {
   "cell_type": "code",
   "execution_count": 1,
   "id": "3d465076",
   "metadata": {},
   "outputs": [],
   "source": [
    "import numpy as np # linear algebra\n",
    "import pandas as pd # data processing, CSV file I/O (e.g. pd.read_csv)"
   ]
  },
  {
   "cell_type": "code",
   "execution_count": 3,
   "id": "e7b50452",
   "metadata": {},
   "outputs": [
    {
     "data": {
      "text/html": [
       "<div>\n",
       "<style scoped>\n",
       "    .dataframe tbody tr th:only-of-type {\n",
       "        vertical-align: middle;\n",
       "    }\n",
       "\n",
       "    .dataframe tbody tr th {\n",
       "        vertical-align: top;\n",
       "    }\n",
       "\n",
       "    .dataframe thead th {\n",
       "        text-align: right;\n",
       "    }\n",
       "</style>\n",
       "<table border=\"1\" class=\"dataframe\">\n",
       "  <thead>\n",
       "    <tr style=\"text-align: right;\">\n",
       "      <th></th>\n",
       "      <th>id</th>\n",
       "      <th>friends</th>\n",
       "    </tr>\n",
       "  </thead>\n",
       "  <tbody>\n",
       "    <tr>\n",
       "      <th>0</th>\n",
       "      <td>1969527638</td>\n",
       "      <td>\"['1969574754', '1969295556', '1969284056', '1...</td>\n",
       "    </tr>\n",
       "    <tr>\n",
       "      <th>1</th>\n",
       "      <td>51878493</td>\n",
       "      <td>\"['60789485', '2420931980', '2899776756', '127...</td>\n",
       "    </tr>\n",
       "    <tr>\n",
       "      <th>2</th>\n",
       "      <td>1393409100</td>\n",
       "      <td>\"['86868062', '19697415', '2998836604', '45629...</td>\n",
       "    </tr>\n",
       "    <tr>\n",
       "      <th>3</th>\n",
       "      <td>232891415</td>\n",
       "      <td>\"['361335082', '1405248468', '24626354', '7256...</td>\n",
       "    </tr>\n",
       "    <tr>\n",
       "      <th>4</th>\n",
       "      <td>710130422907207680</td>\n",
       "      <td>\"['1571896093', '768938323612008448', '2548665...</td>\n",
       "    </tr>\n",
       "  </tbody>\n",
       "</table>\n",
       "</div>"
      ],
      "text/plain": [
       "                   id                                            friends\n",
       "0          1969527638  \"['1969574754', '1969295556', '1969284056', '1...\n",
       "1            51878493  \"['60789485', '2420931980', '2899776756', '127...\n",
       "2          1393409100  \"['86868062', '19697415', '2998836604', '45629...\n",
       "3           232891415  \"['361335082', '1405248468', '24626354', '7256...\n",
       "4  710130422907207680  \"['1571896093', '768938323612008448', '2548665..."
      ]
     },
     "execution_count": 3,
     "metadata": {},
     "output_type": "execute_result"
    }
   ],
   "source": [
    "df = pd.read_csv(\"twitter.clean.4k.csv\", sep=',(?=\\S)', engine='python')\n",
    "\n",
    "#Take a look at the data\n",
    "df.head()\n"
   ]
  },
  {
   "cell_type": "code",
   "execution_count": 4,
   "id": "26c90a6b",
   "metadata": {},
   "outputs": [
    {
     "data": {
      "text/plain": [
       "(3999, 2)"
      ]
     },
     "execution_count": 4,
     "metadata": {},
     "output_type": "execute_result"
    }
   ],
   "source": [
    "df.shape"
   ]
  },
  {
   "cell_type": "code",
   "execution_count": 16,
   "id": "cbe2cdbd",
   "metadata": {},
   "outputs": [],
   "source": [
    "df_first_100 = df.iloc[:50]\n"
   ]
  },
  {
   "cell_type": "code",
   "execution_count": 17,
   "id": "dcda3a36",
   "metadata": {},
   "outputs": [],
   "source": [
    "df_first_100.to_csv(\"first_50_rows.csv\", index=False)"
   ]
  },
  {
   "cell_type": "code",
   "execution_count": 57,
   "id": "a953aa39",
   "metadata": {},
   "outputs": [
    {
     "data": {
      "text/html": [
       "<div>\n",
       "<style scoped>\n",
       "    .dataframe tbody tr th:only-of-type {\n",
       "        vertical-align: middle;\n",
       "    }\n",
       "\n",
       "    .dataframe tbody tr th {\n",
       "        vertical-align: top;\n",
       "    }\n",
       "\n",
       "    .dataframe thead th {\n",
       "        text-align: right;\n",
       "    }\n",
       "</style>\n",
       "<table border=\"1\" class=\"dataframe\">\n",
       "  <thead>\n",
       "    <tr style=\"text-align: right;\">\n",
       "      <th></th>\n",
       "      <th>id</th>\n",
       "      <th>friends</th>\n",
       "    </tr>\n",
       "  </thead>\n",
       "  <tbody>\n",
       "    <tr>\n",
       "      <th>0</th>\n",
       "      <td>1969527638</td>\n",
       "      <td>\"\"\"\"\"\"\"['1969574754', '1969295556', '196928405...</td>\n",
       "    </tr>\n",
       "    <tr>\n",
       "      <th>1</th>\n",
       "      <td>51878493</td>\n",
       "      <td>\"\"\"\"\"\"\"['60789485', '2420931980', '2899776756'...</td>\n",
       "    </tr>\n",
       "    <tr>\n",
       "      <th>2</th>\n",
       "      <td>1393409100</td>\n",
       "      <td>\"\"\"\"\"\"\"['86868062', '19697415', '2998836604', ...</td>\n",
       "    </tr>\n",
       "    <tr>\n",
       "      <th>3</th>\n",
       "      <td>232891415</td>\n",
       "      <td>\"\"\"\"\"\"\"['361335082', '1405248468', '24626354',...</td>\n",
       "    </tr>\n",
       "    <tr>\n",
       "      <th>4</th>\n",
       "      <td>710130422907207680</td>\n",
       "      <td>\"\"\"\"\"\"\"['1571896093', '768938323612008448', '2...</td>\n",
       "    </tr>\n",
       "  </tbody>\n",
       "</table>\n",
       "</div>"
      ],
      "text/plain": [
       "                   id                                            friends\n",
       "0          1969527638  \"\"\"\"\"\"\"['1969574754', '1969295556', '196928405...\n",
       "1            51878493  \"\"\"\"\"\"\"['60789485', '2420931980', '2899776756'...\n",
       "2          1393409100  \"\"\"\"\"\"\"['86868062', '19697415', '2998836604', ...\n",
       "3           232891415  \"\"\"\"\"\"\"['361335082', '1405248468', '24626354',...\n",
       "4  710130422907207680  \"\"\"\"\"\"\"['1571896093', '768938323612008448', '2..."
      ]
     },
     "execution_count": 57,
     "metadata": {},
     "output_type": "execute_result"
    }
   ],
   "source": [
    "df = pd.read_csv(\"first_50_rows.csv\", sep=',(?=\\S)', engine='python')\n",
    "df.head()"
   ]
  },
  {
   "cell_type": "code",
   "execution_count": 58,
   "id": "3ce77d34",
   "metadata": {},
   "outputs": [
    {
     "data": {
      "text/plain": [
       "(50, 2)"
      ]
     },
     "execution_count": 58,
     "metadata": {},
     "output_type": "execute_result"
    }
   ],
   "source": [
    "df.shape"
   ]
  },
  {
   "cell_type": "code",
   "execution_count": 59,
   "id": "97c636e3",
   "metadata": {},
   "outputs": [
    {
     "data": {
      "text/plain": [
       "id         0\n",
       "friends    0\n",
       "dtype: int64"
      ]
     },
     "execution_count": 59,
     "metadata": {},
     "output_type": "execute_result"
    }
   ],
   "source": [
    "df.isnull().sum()"
   ]
  },
  {
   "cell_type": "code",
   "execution_count": 60,
   "id": "48bf8ae0",
   "metadata": {},
   "outputs": [
    {
     "data": {
      "text/plain": [
       "id          int64\n",
       "friends    object\n",
       "dtype: object"
      ]
     },
     "execution_count": 60,
     "metadata": {},
     "output_type": "execute_result"
    }
   ],
   "source": [
    "#Checking the datatypes\n",
    "df.dtypes"
   ]
  },
  {
   "cell_type": "code",
   "execution_count": 61,
   "id": "8d0248a0",
   "metadata": {},
   "outputs": [
    {
     "data": {
      "text/plain": [
       "<bound method NDFrame.describe of                     id                                            friends\n",
       "0           1969527638  \"\"\"\"\"\"\"['1969574754', '1969295556', '196928405...\n",
       "1             51878493  \"\"\"\"\"\"\"['60789485', '2420931980', '2899776756'...\n",
       "2           1393409100  \"\"\"\"\"\"\"['86868062', '19697415', '2998836604', ...\n",
       "3            232891415  \"\"\"\"\"\"\"['361335082', '1405248468', '24626354',...\n",
       "4   710130422907207680  \"\"\"\"\"\"\"['1571896093', '768938323612008448', '2...\n",
       "5           3649469655  \"\"\"\"\"\"\"['2401096388', '707864762', '4096348512...\n",
       "6             99769502  \"\"\"\"\"\"\"['16874201', '223345936', '46893921', '...\n",
       "7            413415713  \"\"\"\"\"\"\"['2353374818', '761568335138058240', '2...\n",
       "8            518053777  \"\"\"\"\"\"\"['2432417994', '752203567382093824', '7...\n",
       "9           3167964531  \"\"\"\"\"\"\"['386533263', '3306591866', '3270679956...\n",
       "10           634516322  \"\"\"\"\"\"\"['3072390181', '219478863', '573299587'...\n",
       "11          3157134163  \"\"\"\"\"\"\"['2395608518', '728499911000391680', '7...\n",
       "12          1852404296  \"\"\"\"\"\"\"['17082836', '1720546368', '2332754869'...\n",
       "13           320733081  \"\"\"\"\"\"\"['634734888', '3008389393', '831143600'...\n",
       "14           611525786  \"\"\"\"\"\"\"['30892730', '2699103476', '2398551414'...\n",
       "15           451819350  \"\"\"\"\"\"\"['2835941210', '740277840281804800', '2...\n",
       "16           465857810  \"\"\"\"\"\"\"['2218719389', '23375688', '159499426',...\n",
       "17          1969604874  \"\"\"\"\"\"\"['283011482', '1969331228', '1969616599...\n",
       "18          1238939516  \"\"\"\"\"\"\"['3110073460', '3051005236', '338325525...\n",
       "19           177694573  \"\"\"\"\"\"\"['2352729630', '577900652', '134687428'...\n",
       "20          4781323279  \"\"\"\"\"\"\"['545535353', '745982295790714880', '54...\n",
       "21           299828914  \"\"\"\"\"\"\"['2331335402', '331691645', '7493670246...\n",
       "22          2728660403  \"\"\"\"\"\"\"['765917241900724224', '926558280', '75...\n",
       "23           353480695  \"\"\"\"\"\"\"['2336027911', '130991061', '33597201',...\n",
       "24          1687385503  \"\"\"\"\"\"\"['735830526792065024', '65219460', '109...\n",
       "25          2422549237  \"\"\"\"\"\"\"['91470064', '2610132654', '816653', '3...\n",
       "26          1282070173                                                 []\n",
       "27            69611563  \"\"\"\"\"\"\"['1583231011', '4754523444', '21660884'...\n",
       "28          4890830966  \"\"\"\"\"\"\"['3318150356', '4196983835', '214811793...\n",
       "29          3336015731  \"\"\"\"\"\"\"['518574152', '307902310', '2885265135'...\n",
       "30          3355871489  \"\"\"\"\"\"\"['742782825661911040', '2196922086', '9...\n",
       "31          1001608224  \"\"\"\"\"\"\"['620909285', '851274366', '18661354', ...\n",
       "32          2283712435  \"\"\"\"\"\"\"['114606210', '63799043', '47216804', '...\n",
       "33          2163836409  \"\"\"\"\"\"\"['258163195', '180279233', '51643563', ...\n",
       "34          2966611953  \"\"\"\"\"\"\"['362986008', '27217647', '317005063', ...\n",
       "35            65282450  \"\"\"\"\"\"\"['246850597', '800183214', '1542862735'...\n",
       "36  708420695508783104  \"\"\"\"\"\"\"['766745024218460160', '730550262700617...\n",
       "37           262750792  \"\"\"\"\"\"\"['768510763187179520', '20838795', '139...\n",
       "38          4312278809  \"\"\"\"\"\"\"['3941580014', '4212669193', '323385775...\n",
       "39  736866783794221057  \"\"\"\"\"\"\"['87181515', '1315810760', '74422922679...\n",
       "40          4520523681  \"\"\"\"\"\"\"['420561487', '3153241991', '1649321089...\n",
       "41          1697751456  \"\"\"\"\"\"\"['30973', '2907629360', '44196397', '74...\n",
       "42           543355544  \"\"\"\"\"\"\"['326892184', '33208736', '17881816', '...\n",
       "43           202889423  \"\"\"\"\"\"\"['234428224', '145291640', '72713804281...\n",
       "44          2949013004  \"\"\"\"\"\"\"['757302253657083904', '2391051348', '7...\n",
       "45          1970490685  \"\"\"\"\"\"\"['1970819071', '1968445129', '197059591...\n",
       "46           277759851                                                 []\n",
       "47          1571949344  \"\"\"\"\"\"\"['754573950743564289', '2723713757', '7...\n",
       "48          1210896074  \"\"\"\"\"\"\"['708619732937613312', '1562081618', '1...\n",
       "49            26033888  \"\"\"\"\"\"\"['396098648', '1003023973', '345242471'...>"
      ]
     },
     "execution_count": 61,
     "metadata": {},
     "output_type": "execute_result"
    }
   ],
   "source": [
    "df.describe\n"
   ]
  },
  {
   "cell_type": "code",
   "execution_count": 62,
   "id": "21965a4e",
   "metadata": {},
   "outputs": [],
   "source": [
    "import networkx as nx\n",
    "import pandas as pd\n",
    "import ast  # Import the 'ast' module\n",
    "\n",
    "# Load the dataset from your CSV file\n",
    "your_dataset = pd.read_csv('first_50_rows.csv')\n",
    "\n",
    "# Create an empty graph\n",
    "G = nx.Graph()\n",
    "\n",
    "# Iterate through your dataset and add edges to the graph\n",
    "for index, row in your_dataset.iterrows():\n",
    "    user_id = str(row['id'])\n",
    "    \n",
    "    # Extract the friends from the 'friends' column\n",
    "    friends = ast.literal_eval(row['friends'])\n",
    "    \n",
    "    for friend_id in friends:\n",
    "        G.add_edge(user_id, friend_id)\n"
   ]
  },
  {
   "cell_type": "code",
   "execution_count": 65,
   "id": "a908c2c2",
   "metadata": {},
   "outputs": [
    {
     "data": {
      "application/vnd.jupyter.widget-view+json": {
       "model_id": "bfd12de032eb4f4d9e1bfebfc2e960a3",
       "version_major": 2,
       "version_minor": 0
      },
      "text/plain": [
       "Computing transition probabilities:   0%|          | 0/63 [00:00<?, ?it/s]"
      ]
     },
     "metadata": {},
     "output_type": "display_data"
    }
   ],
   "source": [
    "from node2vec import Node2Vec\n",
    "import networkx as nx\n",
    "import pandas as pd\n",
    "import ast\n",
    "\n",
    "# Load the dataset from CSV file\n",
    "your_dataset = pd.read_csv('first_50_rows.csv')\n",
    "\n",
    "# Create an empty graph\n",
    "G = nx.Graph()\n",
    "\n",
    "# Iterate through your dataset and add edges to the graph\n",
    "for index, row in your_dataset.iterrows():\n",
    "    user_id = str(row['id'])\n",
    "    \n",
    "    # Extract the friends from the 'friends' column\n",
    "    friends = ast.literal_eval(row['friends'])\n",
    "    \n",
    "    for friend_id in friends:\n",
    "        G.add_edge(user_id, friend_id)\n",
    "\n",
    "# Precompute the probabilities and generate walks\n",
    "node2vec = Node2Vec(\n",
    "    G,\n",
    "    dimensions=64,\n",
    "    walk_length=30,\n",
    "    num_walks=200,\n",
    "    workers=4,  # Set the number of CPU cores\n",
    ")\n",
    "\n",
    "# Learn embeddings\n",
    "model = node2vec.fit(window=10, min_count=1)\n",
    "\n",
    "# Save the model to a file\n",
    "model.save(\"node2vec_model1.gensim\")\n",
    "\n",
    "# To load the model from the file later, you can use:\n",
    "# loaded_model = gensim.models.Word2Vec.load(\"node2vec_model.gensim\")"
   ]
  },
  {
   "cell_type": "code",
   "execution_count": 68,
   "id": "8e2ad672",
   "metadata": {},
   "outputs": [
    {
     "name": "stdout",
     "output_type": "stream",
     "text": [
      "ROC-AUC Score: 0.4913702079272254\n"
     ]
    }
   ],
   "source": [
    "from node2vec import Node2Vec\n",
    "import networkx as nx\n",
    "import pandas as pd\n",
    "import ast\n",
    "import numpy as np\n",
    "from sklearn.model_selection import train_test_split\n",
    "from sklearn.metrics import roc_auc_score\n",
    "\n",
    "# Split the edges into training and test sets\n",
    "edges = list(G.edges())\n",
    "train_edges, test_edges = train_test_split(edges, test_size=0.05)\n",
    "\n",
    "# Extract embeddings for nodes involved in edges\n",
    "def get_node_embedding(node_id):\n",
    "    return model.wv[node_id]\n",
    "\n",
    "# Calculate ROC-AUC score for link prediction\n",
    "y_true = [1] * len(test_edges)  # True links\n",
    "y_true += [0] * len(train_edges)  # Non-links\n",
    "edge_list = test_edges + train_edges\n",
    "y_pred = [np.dot(get_node_embedding(u), get_node_embedding(v)) for u, v in edge_list]\n",
    "\n",
    "roc_auc = roc_auc_score(y_true, y_pred)\n",
    "print(\"ROC-AUC Score:\", roc_auc)\n"
   ]
  },
  {
   "cell_type": "code",
   "execution_count": 70,
   "id": "0710e5de",
   "metadata": {},
   "outputs": [
    {
     "name": "stdout",
     "output_type": "stream",
     "text": [
      "Accuracy: 0.95\n",
      "F1 Score: 0.0\n"
     ]
    }
   ],
   "source": [
    "threshold = 0.5  # You can adjust this threshold as needed\n",
    "\n",
    "# Convert similarity scores to binary labels based on the threshold\n",
    "y_pred_binary = [1 if score >= threshold else 0 for score in y_pred]\n",
    "\n",
    "accuracy = accuracy_score(y_true, y_pred_binary)\n",
    "f1 = f1_score(y_true, y_pred_binary)\n",
    "\n",
    "print(\"Accuracy:\", accuracy)\n",
    "print(\"F1 Score:\", f1)\n"
   ]
  },
  {
   "cell_type": "code",
   "execution_count": 71,
   "id": "42c2236c",
   "metadata": {},
   "outputs": [
    {
     "name": "stdout",
     "output_type": "stream",
     "text": [
      "Confusion Matrix:\n",
      "[[684   0]\n",
      " [ 36   0]]\n"
     ]
    }
   ],
   "source": [
    "from sklearn.metrics import confusion_matrix\n",
    "\n",
    "# Assuming you already have y_true and y_pred_binary\n",
    "# y_true: True binary labels (0 or 1)\n",
    "# y_pred_binary: Predicted binary labels based on a threshold\n",
    "\n",
    "# Create the confusion matrix\n",
    "confusion = confusion_matrix(y_true, y_pred_binary)\n",
    "\n",
    "print(\"Confusion Matrix:\")\n",
    "print(confusion)\n"
   ]
  },
  {
   "cell_type": "markdown",
   "id": "90f45446",
   "metadata": {},
   "source": [
    "# GUI of Node2vec"
   ]
  },
  {
   "cell_type": "code",
   "execution_count": 6,
   "id": "276aa60a",
   "metadata": {},
   "outputs": [],
   "source": [
    "import PySimpleGUI as sg\n",
    "import gensim\n",
    "\n",
    "# Load the pre-trained Node2Vec model\n",
    "loaded_model = gensim.models.Word2Vec.load(\"node2vec_model1.gensim\")\n",
    "\n",
    "# Function to make friend suggestions\n",
    "def make_friend_suggestions(user_id):\n",
    "    try:\n",
    "        suggestions = loaded_model.wv.most_similar([user_id], topn=10)\n",
    "        return [str(suggestion[0]) for suggestion in suggestions]\n",
    "    except KeyError:\n",
    "        return [\"User ID not found in the model.\"]\n",
    "\n",
    "# PySimpleGUI layout\n",
    "layout = [\n",
    "    [sg.Text(\"Enter a User ID: \"), sg.InputText(key=\"user_id\")],\n",
    "    [sg.Button(\"Get Friend Suggestions\"), sg.Button(\"Retry\"), sg.Button(\"Exit\")],\n",
    "    [sg.Text(\"Friend Suggestions:\")],\n",
    "    [sg.Listbox([], size=(60, 10), key=\"suggestions\")]\n",
    "]\n",
    "\n",
    "# Create the window\n",
    "window = sg.Window(\"Friend Suggestion App\", layout, size=(500, 400))\n",
    "sg.theme('BluePurple')\n",
    "# Event loop\n",
    "while True:\n",
    "    event, values = window.read()\n",
    "\n",
    "    if event in (sg.WIN_CLOSED, \"Exit\"):\n",
    "        break\n",
    "\n",
    "    if event == \"Get Friend Suggestions\":\n",
    "        user_id = values[\"user_id\"]\n",
    "        suggestions = make_friend_suggestions(user_id)\n",
    "        window[\"suggestions\"].update(suggestions)\n",
    "\n",
    "    if event == \"Retry\":\n",
    "        window[\"user_id\"].update(\"\")  # Clear the input field\n",
    "        window[\"suggestions\"].update(\"\")  # Clear the suggestions\n",
    "\n",
    "# Close the window\n",
    "window.close()\n"
   ]
  },
  {
   "cell_type": "markdown",
   "id": "881e66d4",
   "metadata": {},
   "source": [
    "# Word2vec"
   ]
  },
  {
   "cell_type": "code",
   "execution_count": 91,
   "id": "aaa52668",
   "metadata": {},
   "outputs": [],
   "source": [
    "import pandas as pd\n",
    "import networkx as nx\n",
    "from gensim.models import Word2Vec\n",
    "import random\n",
    "from sklearn.model_selection import train_test_split\n",
    "\n",
    "# Load the dataset\n",
    "df = pd.read_csv(\"data.csv\", sep=',(?=\\S)', engine='python')\n"
   ]
  },
  {
   "cell_type": "code",
   "execution_count": 92,
   "id": "7df61dcf",
   "metadata": {},
   "outputs": [
    {
     "data": {
      "text/plain": [
       "<bound method NDFrame.head of                          id         screenName  \\\n",
       "0              \"1969527638\"  \"LlngoMakeEmCum_\"   \n",
       "1                \"51878493\"     \"_notmichelle\"   \n",
       "2              \"1393409100\"        \"jesseayye\"   \n",
       "3               \"232891415\"     \"MrBrianLloyd\"   \n",
       "4      \"710130422907207680\"    \"sarahdorat_16\"   \n",
       "...                     ...                ...   \n",
       "39995          \"2392502478\"    \"bieberdestine\"   \n",
       "39996          \"1014398065\"  \"Yeh_its_Choolwe\"   \n",
       "39997           \"177430436\"      \"cachelebell\"   \n",
       "39998            \"20240488\"  \"LifestyleMGroup\"   \n",
       "39999           \"946109466\"     \"jessmorris98\"   \n",
       "\n",
       "                                               tags  \\\n",
       "0                             [ \"#nationaldogday\" ]   \n",
       "1                             [ \"#nationaldogday\" ]   \n",
       "2                                     [ \"#narcos\" ]   \n",
       "3                                [ \"#gloryoutnow\" ]   \n",
       "4                             [ \"#nationaldogday\" ]   \n",
       "...                                             ...   \n",
       "39995  [ \"#respecttylerjoseph\", \"#nationaldogday\" ]   \n",
       "39996                              [ \"#belgiangp\" ]   \n",
       "39997                         [ \"#nationaldogday\" ]   \n",
       "39998                                [ \"#weekend\" ]   \n",
       "39999                     [ \"#respecttylerjoseph\" ]   \n",
       "\n",
       "                                                  avatar  followersCount  \\\n",
       "0      \"http://pbs.twimg.com/profile_images/534286217...             319   \n",
       "1      \"http://pbs.twimg.com/profile_images/761977602...             275   \n",
       "2      \"http://pbs.twimg.com/profile_images/713282938...             120   \n",
       "3      \"http://pbs.twimg.com/profile_images/133440668...             492   \n",
       "4      \"http://pbs.twimg.com/profile_images/767180520...             128   \n",
       "...                                                  ...             ...   \n",
       "39995  \"http://pbs.twimg.com/profile_images/769395542...           13645   \n",
       "39996  \"http://pbs.twimg.com/profile_images/768679285...             119   \n",
       "39997  \"http://pbs.twimg.com/profile_images/768214693...            2023   \n",
       "39998  \"http://pbs.twimg.com/profile_images/739852718...            2881   \n",
       "39999  \"http://pbs.twimg.com/profile_images/764969584...            1679   \n",
       "\n",
       "       friendsCount  lang       lastSeen               tweetId  \\\n",
       "0               112  \"en\"  1472271687519  \"769310701580083200\"   \n",
       "1               115  \"en\"  1472270622663  \"769309490038439936\"   \n",
       "2               107  \"en\"  1472804144409  \"771622623583186944\"   \n",
       "3               325  \"en\"  1472269186776  \"769308131696467969\"   \n",
       "4               218  \"en\"  1472271397356  \"769309769144283137\"   \n",
       "...             ...   ...            ...                   ...   \n",
       "39995         13624  \"en\"  1472289186728  \"769461850912219136\"   \n",
       "39996           113  \"en\"  1472288980846  \"769461852791312384\"   \n",
       "39997          1882  \"en\"  1472288982066  \"769461872198356992\"   \n",
       "39998          1526  \"en\"  1472288984948  \"769461874953969664\"   \n",
       "39999          1592  \"en\"  1472289145743  \"769461878410059777\"   \n",
       "\n",
       "                                                 friends  \n",
       "0      [ \"1969574754\", \"1969295556\", \"1969284056\", \"1...  \n",
       "1      [ \"60789485\", \"2420931980\", \"2899776756\", \"127...  \n",
       "2      [ \"86868062\", \"19697415\", \"2998836604\", \"45629...  \n",
       "3      [ \"361335082\", \"1405248468\", \"24626354\", \"7256...  \n",
       "4      [ \"1571896093\", \"768938323612008448\", \"2548665...  \n",
       "...                                                  ...  \n",
       "39995  [ \"4430903653\", \"408582743\", \"968989339\", \"768...  \n",
       "39996  [ \"29359583\", \"24515927\", \"345358431\", \"739864...  \n",
       "39997  [ \"323073788\", \"4855395791\", \"803659230\", \"234...  \n",
       "39998  [ \"86101271\", \"7111412\", \"8830542\", \"349236669...  \n",
       "39999  [ \"759526036992208897\", \"726502847009923072\", ...  \n",
       "\n",
       "[40000 rows x 10 columns]>"
      ]
     },
     "execution_count": 92,
     "metadata": {},
     "output_type": "execute_result"
    }
   ],
   "source": [
    "df.head"
   ]
  },
  {
   "cell_type": "code",
   "execution_count": 93,
   "id": "b3bc9fc5",
   "metadata": {},
   "outputs": [],
   "source": [
    "df_first_10 = df.iloc[:10]"
   ]
  },
  {
   "cell_type": "code",
   "execution_count": 94,
   "id": "850d317b",
   "metadata": {},
   "outputs": [],
   "source": [
    "\n",
    "df_first_10.to_csv(\"first_10_rows.csv\", index=False)"
   ]
  },
  {
   "cell_type": "code",
   "execution_count": 96,
   "id": "9045aea1",
   "metadata": {},
   "outputs": [
    {
     "data": {
      "text/plain": [
       "<bound method NDFrame.head of                      id         screenName                   tags  \\\n",
       "0          \"1969527638\"  \"LlngoMakeEmCum_\"  [ \"#nationaldogday\" ]   \n",
       "1            \"51878493\"     \"_notmichelle\"  [ \"#nationaldogday\" ]   \n",
       "2          \"1393409100\"        \"jesseayye\"          [ \"#narcos\" ]   \n",
       "3           \"232891415\"     \"MrBrianLloyd\"     [ \"#gloryoutnow\" ]   \n",
       "4  \"710130422907207680\"    \"sarahdorat_16\"  [ \"#nationaldogday\" ]   \n",
       "5          \"3649469655\"  \"wanderIustregui\"   [ \"#veranomtv2016\" ]   \n",
       "6            \"99769502\"       \"andhesonit\"     [ \"felipe massa\" ]   \n",
       "7           \"413415713\"        \"Jas_Thxku\"          [ \"#narcos\" ]   \n",
       "8           \"518053777\"          \"KLitzau\"  [ \"#nationaldogday\" ]   \n",
       "9          \"3167964531\"     \"ThePettyHomo\"  [ \"#nationaldogday\" ]   \n",
       "\n",
       "                                              avatar  followersCount  \\\n",
       "0  \"http://pbs.twimg.com/profile_images/534286217...             319   \n",
       "1  \"http://pbs.twimg.com/profile_images/761977602...             275   \n",
       "2  \"http://pbs.twimg.com/profile_images/713282938...             120   \n",
       "3  \"http://pbs.twimg.com/profile_images/133440668...             492   \n",
       "4  \"http://pbs.twimg.com/profile_images/767180520...             128   \n",
       "5  \"http://pbs.twimg.com/profile_images/762400806...             479   \n",
       "6  \"http://pbs.twimg.com/profile_images/275040304...            1875   \n",
       "7  \"http://pbs.twimg.com/profile_images/763725799...             582   \n",
       "8  \"http://pbs.twimg.com/profile_images/760911238...             688   \n",
       "9  \"http://pbs.twimg.com/profile_images/716385730...             204   \n",
       "\n",
       "   friendsCount  lang       lastSeen               tweetId  \\\n",
       "0           112  \"en\"  1472271687519  \"769310701580083200\"   \n",
       "1           115  \"en\"  1472270622663  \"769309490038439936\"   \n",
       "2           107  \"en\"  1472804144409  \"771622623583186944\"   \n",
       "3           325  \"en\"  1472269186776  \"769308131696467969\"   \n",
       "4           218  \"en\"  1472271397356  \"769309769144283137\"   \n",
       "5           131  \"en\"  1472736978337  \"771340902308671488\"   \n",
       "6           111  \"en\"  1472732443867  \"771321872936042496\"   \n",
       "7           281  \"en\"  1472806604198  \"771632931903197184\"   \n",
       "8           186  \"en\"  1472267235476  \"769306212894638080\"   \n",
       "9           226  \"en\"  1472268664496  \"769307613825798145\"   \n",
       "\n",
       "                                             friends  \n",
       "0  [ \"1969574754\", \"1969295556\", \"1969284056\", \"1...  \n",
       "1  [ \"60789485\", \"2420931980\", \"2899776756\", \"127...  \n",
       "2  [ \"86868062\", \"19697415\", \"2998836604\", \"45629...  \n",
       "3  [ \"361335082\", \"1405248468\", \"24626354\", \"7256...  \n",
       "4  [ \"1571896093\", \"768938323612008448\", \"2548665...  \n",
       "5  [ \"2401096388\", \"707864762\", \"4096348512\", \"76...  \n",
       "6  [ \"16874201\", \"223345936\", \"46893921\", \"130408...  \n",
       "7  [ \"2353374818\", \"761568335138058240\", \"2395907...  \n",
       "8  [ \"2432417994\", \"752203567382093824\", \"7421603...  \n",
       "9  [ \"386533263\", \"3306591866\", \"3270679956\", \"73...  >"
      ]
     },
     "execution_count": 96,
     "metadata": {},
     "output_type": "execute_result"
    }
   ],
   "source": [
    "df_first_10.head"
   ]
  },
  {
   "cell_type": "code",
   "execution_count": 101,
   "id": "7471f5c6",
   "metadata": {},
   "outputs": [],
   "source": [
    "df = pd.read_csv(\"first_10_rows.csv\", sep=',(?=\\S)', engine='python')"
   ]
  },
  {
   "cell_type": "code",
   "execution_count": 102,
   "id": "8b0caa06",
   "metadata": {},
   "outputs": [
    {
     "data": {
      "text/html": [
       "<div>\n",
       "<style scoped>\n",
       "    .dataframe tbody tr th:only-of-type {\n",
       "        vertical-align: middle;\n",
       "    }\n",
       "\n",
       "    .dataframe tbody tr th {\n",
       "        vertical-align: top;\n",
       "    }\n",
       "\n",
       "    .dataframe thead th {\n",
       "        text-align: right;\n",
       "    }\n",
       "</style>\n",
       "<table border=\"1\" class=\"dataframe\">\n",
       "  <thead>\n",
       "    <tr style=\"text-align: right;\">\n",
       "      <th></th>\n",
       "      <th>id</th>\n",
       "      <th>screenName</th>\n",
       "      <th>tags</th>\n",
       "      <th>avatar</th>\n",
       "      <th>followersCount</th>\n",
       "      <th>friendsCount</th>\n",
       "      <th>lang</th>\n",
       "      <th>lastSeen</th>\n",
       "      <th>tweetId</th>\n",
       "      <th>friends</th>\n",
       "    </tr>\n",
       "  </thead>\n",
       "  <tbody>\n",
       "    <tr>\n",
       "      <th>0</th>\n",
       "      <td>\"\"\"1969527638\"\"\"</td>\n",
       "      <td>\"\"\"LlngoMakeEmCum_\"\"\"</td>\n",
       "      <td>\"[ \"\"#nationaldogday\"\" ]\"</td>\n",
       "      <td>\"\"\"http://pbs.twimg.com/profile_images/5342862...</td>\n",
       "      <td>319</td>\n",
       "      <td>112</td>\n",
       "      <td>\"\"\"en\"\"\"</td>\n",
       "      <td>1472271687519</td>\n",
       "      <td>\"\"\"769310701580083200\"\"\"</td>\n",
       "      <td>\"[ \"\"1969574754\"\", \"\"1969295556\"\", \"\"196928405...</td>\n",
       "    </tr>\n",
       "    <tr>\n",
       "      <th>1</th>\n",
       "      <td>\"\"\"51878493\"\"\"</td>\n",
       "      <td>\"\"\"_notmichelle\"\"\"</td>\n",
       "      <td>\"[ \"\"#nationaldogday\"\" ]\"</td>\n",
       "      <td>\"\"\"http://pbs.twimg.com/profile_images/7619776...</td>\n",
       "      <td>275</td>\n",
       "      <td>115</td>\n",
       "      <td>\"\"\"en\"\"\"</td>\n",
       "      <td>1472270622663</td>\n",
       "      <td>\"\"\"769309490038439936\"\"\"</td>\n",
       "      <td>\"[ \"\"60789485\"\", \"\"2420931980\"\", \"\"2899776756\"...</td>\n",
       "    </tr>\n",
       "    <tr>\n",
       "      <th>2</th>\n",
       "      <td>\"\"\"1393409100\"\"\"</td>\n",
       "      <td>\"\"\"jesseayye\"\"\"</td>\n",
       "      <td>\"[ \"\"#narcos\"\" ]\"</td>\n",
       "      <td>\"\"\"http://pbs.twimg.com/profile_images/7132829...</td>\n",
       "      <td>120</td>\n",
       "      <td>107</td>\n",
       "      <td>\"\"\"en\"\"\"</td>\n",
       "      <td>1472804144409</td>\n",
       "      <td>\"\"\"771622623583186944\"\"\"</td>\n",
       "      <td>\"[ \"\"86868062\"\", \"\"19697415\"\", \"\"2998836604\"\",...</td>\n",
       "    </tr>\n",
       "    <tr>\n",
       "      <th>3</th>\n",
       "      <td>\"\"\"232891415\"\"\"</td>\n",
       "      <td>\"\"\"MrBrianLloyd\"\"\"</td>\n",
       "      <td>\"[ \"\"#gloryoutnow\"\" ]\"</td>\n",
       "      <td>\"\"\"http://pbs.twimg.com/profile_images/1334406...</td>\n",
       "      <td>492</td>\n",
       "      <td>325</td>\n",
       "      <td>\"\"\"en\"\"\"</td>\n",
       "      <td>1472269186776</td>\n",
       "      <td>\"\"\"769308131696467969\"\"\"</td>\n",
       "      <td>\"[ \"\"361335082\"\", \"\"1405248468\"\", \"\"24626354\"\"...</td>\n",
       "    </tr>\n",
       "    <tr>\n",
       "      <th>4</th>\n",
       "      <td>\"\"\"710130422907207680\"\"\"</td>\n",
       "      <td>\"\"\"sarahdorat_16\"\"\"</td>\n",
       "      <td>\"[ \"\"#nationaldogday\"\" ]\"</td>\n",
       "      <td>\"\"\"http://pbs.twimg.com/profile_images/7671805...</td>\n",
       "      <td>128</td>\n",
       "      <td>218</td>\n",
       "      <td>\"\"\"en\"\"\"</td>\n",
       "      <td>1472271397356</td>\n",
       "      <td>\"\"\"769309769144283137\"\"\"</td>\n",
       "      <td>\"[ \"\"1571896093\"\", \"\"768938323612008448\"\", \"\"2...</td>\n",
       "    </tr>\n",
       "    <tr>\n",
       "      <th>5</th>\n",
       "      <td>\"\"\"3649469655\"\"\"</td>\n",
       "      <td>\"\"\"wanderIustregui\"\"\"</td>\n",
       "      <td>\"[ \"\"#veranomtv2016\"\" ]\"</td>\n",
       "      <td>\"\"\"http://pbs.twimg.com/profile_images/7624008...</td>\n",
       "      <td>479</td>\n",
       "      <td>131</td>\n",
       "      <td>\"\"\"en\"\"\"</td>\n",
       "      <td>1472736978337</td>\n",
       "      <td>\"\"\"771340902308671488\"\"\"</td>\n",
       "      <td>\"[ \"\"2401096388\"\", \"\"707864762\"\", \"\"4096348512...</td>\n",
       "    </tr>\n",
       "    <tr>\n",
       "      <th>6</th>\n",
       "      <td>\"\"\"99769502\"\"\"</td>\n",
       "      <td>\"\"\"andhesonit\"\"\"</td>\n",
       "      <td>\"[ \"\"felipe massa\"\" ]\"</td>\n",
       "      <td>\"\"\"http://pbs.twimg.com/profile_images/2750403...</td>\n",
       "      <td>1875</td>\n",
       "      <td>111</td>\n",
       "      <td>\"\"\"en\"\"\"</td>\n",
       "      <td>1472732443867</td>\n",
       "      <td>\"\"\"771321872936042496\"\"\"</td>\n",
       "      <td>\"[ \"\"16874201\"\", \"\"223345936\"\", \"\"46893921\"\", ...</td>\n",
       "    </tr>\n",
       "    <tr>\n",
       "      <th>7</th>\n",
       "      <td>\"\"\"413415713\"\"\"</td>\n",
       "      <td>\"\"\"Jas_Thxku\"\"\"</td>\n",
       "      <td>\"[ \"\"#narcos\"\" ]\"</td>\n",
       "      <td>\"\"\"http://pbs.twimg.com/profile_images/7637257...</td>\n",
       "      <td>582</td>\n",
       "      <td>281</td>\n",
       "      <td>\"\"\"en\"\"\"</td>\n",
       "      <td>1472806604198</td>\n",
       "      <td>\"\"\"771632931903197184\"\"\"</td>\n",
       "      <td>\"[ \"\"2353374818\"\", \"\"761568335138058240\"\", \"\"2...</td>\n",
       "    </tr>\n",
       "    <tr>\n",
       "      <th>8</th>\n",
       "      <td>\"\"\"518053777\"\"\"</td>\n",
       "      <td>\"\"\"KLitzau\"\"\"</td>\n",
       "      <td>\"[ \"\"#nationaldogday\"\" ]\"</td>\n",
       "      <td>\"\"\"http://pbs.twimg.com/profile_images/7609112...</td>\n",
       "      <td>688</td>\n",
       "      <td>186</td>\n",
       "      <td>\"\"\"en\"\"\"</td>\n",
       "      <td>1472267235476</td>\n",
       "      <td>\"\"\"769306212894638080\"\"\"</td>\n",
       "      <td>\"[ \"\"2432417994\"\", \"\"752203567382093824\"\", \"\"7...</td>\n",
       "    </tr>\n",
       "    <tr>\n",
       "      <th>9</th>\n",
       "      <td>\"\"\"3167964531\"\"\"</td>\n",
       "      <td>\"\"\"ThePettyHomo\"\"\"</td>\n",
       "      <td>\"[ \"\"#nationaldogday\"\" ]\"</td>\n",
       "      <td>\"\"\"http://pbs.twimg.com/profile_images/7163857...</td>\n",
       "      <td>204</td>\n",
       "      <td>226</td>\n",
       "      <td>\"\"\"en\"\"\"</td>\n",
       "      <td>1472268664496</td>\n",
       "      <td>\"\"\"769307613825798145\"\"\"</td>\n",
       "      <td>\"[ \"\"386533263\"\", \"\"3306591866\"\", \"\"3270679956...</td>\n",
       "    </tr>\n",
       "  </tbody>\n",
       "</table>\n",
       "</div>"
      ],
      "text/plain": [
       "                         id             screenName                       tags  \\\n",
       "0          \"\"\"1969527638\"\"\"  \"\"\"LlngoMakeEmCum_\"\"\"  \"[ \"\"#nationaldogday\"\" ]\"   \n",
       "1            \"\"\"51878493\"\"\"     \"\"\"_notmichelle\"\"\"  \"[ \"\"#nationaldogday\"\" ]\"   \n",
       "2          \"\"\"1393409100\"\"\"        \"\"\"jesseayye\"\"\"          \"[ \"\"#narcos\"\" ]\"   \n",
       "3           \"\"\"232891415\"\"\"     \"\"\"MrBrianLloyd\"\"\"     \"[ \"\"#gloryoutnow\"\" ]\"   \n",
       "4  \"\"\"710130422907207680\"\"\"    \"\"\"sarahdorat_16\"\"\"  \"[ \"\"#nationaldogday\"\" ]\"   \n",
       "5          \"\"\"3649469655\"\"\"  \"\"\"wanderIustregui\"\"\"   \"[ \"\"#veranomtv2016\"\" ]\"   \n",
       "6            \"\"\"99769502\"\"\"       \"\"\"andhesonit\"\"\"     \"[ \"\"felipe massa\"\" ]\"   \n",
       "7           \"\"\"413415713\"\"\"        \"\"\"Jas_Thxku\"\"\"          \"[ \"\"#narcos\"\" ]\"   \n",
       "8           \"\"\"518053777\"\"\"          \"\"\"KLitzau\"\"\"  \"[ \"\"#nationaldogday\"\" ]\"   \n",
       "9          \"\"\"3167964531\"\"\"     \"\"\"ThePettyHomo\"\"\"  \"[ \"\"#nationaldogday\"\" ]\"   \n",
       "\n",
       "                                              avatar  followersCount  \\\n",
       "0  \"\"\"http://pbs.twimg.com/profile_images/5342862...             319   \n",
       "1  \"\"\"http://pbs.twimg.com/profile_images/7619776...             275   \n",
       "2  \"\"\"http://pbs.twimg.com/profile_images/7132829...             120   \n",
       "3  \"\"\"http://pbs.twimg.com/profile_images/1334406...             492   \n",
       "4  \"\"\"http://pbs.twimg.com/profile_images/7671805...             128   \n",
       "5  \"\"\"http://pbs.twimg.com/profile_images/7624008...             479   \n",
       "6  \"\"\"http://pbs.twimg.com/profile_images/2750403...            1875   \n",
       "7  \"\"\"http://pbs.twimg.com/profile_images/7637257...             582   \n",
       "8  \"\"\"http://pbs.twimg.com/profile_images/7609112...             688   \n",
       "9  \"\"\"http://pbs.twimg.com/profile_images/7163857...             204   \n",
       "\n",
       "   friendsCount      lang       lastSeen                   tweetId  \\\n",
       "0           112  \"\"\"en\"\"\"  1472271687519  \"\"\"769310701580083200\"\"\"   \n",
       "1           115  \"\"\"en\"\"\"  1472270622663  \"\"\"769309490038439936\"\"\"   \n",
       "2           107  \"\"\"en\"\"\"  1472804144409  \"\"\"771622623583186944\"\"\"   \n",
       "3           325  \"\"\"en\"\"\"  1472269186776  \"\"\"769308131696467969\"\"\"   \n",
       "4           218  \"\"\"en\"\"\"  1472271397356  \"\"\"769309769144283137\"\"\"   \n",
       "5           131  \"\"\"en\"\"\"  1472736978337  \"\"\"771340902308671488\"\"\"   \n",
       "6           111  \"\"\"en\"\"\"  1472732443867  \"\"\"771321872936042496\"\"\"   \n",
       "7           281  \"\"\"en\"\"\"  1472806604198  \"\"\"771632931903197184\"\"\"   \n",
       "8           186  \"\"\"en\"\"\"  1472267235476  \"\"\"769306212894638080\"\"\"   \n",
       "9           226  \"\"\"en\"\"\"  1472268664496  \"\"\"769307613825798145\"\"\"   \n",
       "\n",
       "                                             friends  \n",
       "0  \"[ \"\"1969574754\"\", \"\"1969295556\"\", \"\"196928405...  \n",
       "1  \"[ \"\"60789485\"\", \"\"2420931980\"\", \"\"2899776756\"...  \n",
       "2  \"[ \"\"86868062\"\", \"\"19697415\"\", \"\"2998836604\"\",...  \n",
       "3  \"[ \"\"361335082\"\", \"\"1405248468\"\", \"\"24626354\"\"...  \n",
       "4  \"[ \"\"1571896093\"\", \"\"768938323612008448\"\", \"\"2...  \n",
       "5  \"[ \"\"2401096388\"\", \"\"707864762\"\", \"\"4096348512...  \n",
       "6  \"[ \"\"16874201\"\", \"\"223345936\"\", \"\"46893921\"\", ...  \n",
       "7  \"[ \"\"2353374818\"\", \"\"761568335138058240\"\", \"\"2...  \n",
       "8  \"[ \"\"2432417994\"\", \"\"752203567382093824\"\", \"\"7...  \n",
       "9  \"[ \"\"386533263\"\", \"\"3306591866\"\", \"\"3270679956...  "
      ]
     },
     "execution_count": 102,
     "metadata": {},
     "output_type": "execute_result"
    }
   ],
   "source": [
    "df\n"
   ]
  },
  {
   "cell_type": "code",
   "execution_count": 104,
   "id": "4098176e",
   "metadata": {},
   "outputs": [
    {
     "data": {
      "text/plain": [
       "<bound method NDFrame.describe of                          id             screenName                       tags  \\\n",
       "0          \"\"\"1969527638\"\"\"  \"\"\"LlngoMakeEmCum_\"\"\"  \"[ \"\"#nationaldogday\"\" ]\"   \n",
       "1            \"\"\"51878493\"\"\"     \"\"\"_notmichelle\"\"\"  \"[ \"\"#nationaldogday\"\" ]\"   \n",
       "2          \"\"\"1393409100\"\"\"        \"\"\"jesseayye\"\"\"          \"[ \"\"#narcos\"\" ]\"   \n",
       "3           \"\"\"232891415\"\"\"     \"\"\"MrBrianLloyd\"\"\"     \"[ \"\"#gloryoutnow\"\" ]\"   \n",
       "4  \"\"\"710130422907207680\"\"\"    \"\"\"sarahdorat_16\"\"\"  \"[ \"\"#nationaldogday\"\" ]\"   \n",
       "5          \"\"\"3649469655\"\"\"  \"\"\"wanderIustregui\"\"\"   \"[ \"\"#veranomtv2016\"\" ]\"   \n",
       "6            \"\"\"99769502\"\"\"       \"\"\"andhesonit\"\"\"     \"[ \"\"felipe massa\"\" ]\"   \n",
       "7           \"\"\"413415713\"\"\"        \"\"\"Jas_Thxku\"\"\"          \"[ \"\"#narcos\"\" ]\"   \n",
       "8           \"\"\"518053777\"\"\"          \"\"\"KLitzau\"\"\"  \"[ \"\"#nationaldogday\"\" ]\"   \n",
       "9          \"\"\"3167964531\"\"\"     \"\"\"ThePettyHomo\"\"\"  \"[ \"\"#nationaldogday\"\" ]\"   \n",
       "\n",
       "                                              avatar  followersCount  \\\n",
       "0  \"\"\"http://pbs.twimg.com/profile_images/5342862...             319   \n",
       "1  \"\"\"http://pbs.twimg.com/profile_images/7619776...             275   \n",
       "2  \"\"\"http://pbs.twimg.com/profile_images/7132829...             120   \n",
       "3  \"\"\"http://pbs.twimg.com/profile_images/1334406...             492   \n",
       "4  \"\"\"http://pbs.twimg.com/profile_images/7671805...             128   \n",
       "5  \"\"\"http://pbs.twimg.com/profile_images/7624008...             479   \n",
       "6  \"\"\"http://pbs.twimg.com/profile_images/2750403...            1875   \n",
       "7  \"\"\"http://pbs.twimg.com/profile_images/7637257...             582   \n",
       "8  \"\"\"http://pbs.twimg.com/profile_images/7609112...             688   \n",
       "9  \"\"\"http://pbs.twimg.com/profile_images/7163857...             204   \n",
       "\n",
       "   friendsCount      lang       lastSeen                   tweetId  \\\n",
       "0           112  \"\"\"en\"\"\"  1472271687519  \"\"\"769310701580083200\"\"\"   \n",
       "1           115  \"\"\"en\"\"\"  1472270622663  \"\"\"769309490038439936\"\"\"   \n",
       "2           107  \"\"\"en\"\"\"  1472804144409  \"\"\"771622623583186944\"\"\"   \n",
       "3           325  \"\"\"en\"\"\"  1472269186776  \"\"\"769308131696467969\"\"\"   \n",
       "4           218  \"\"\"en\"\"\"  1472271397356  \"\"\"769309769144283137\"\"\"   \n",
       "5           131  \"\"\"en\"\"\"  1472736978337  \"\"\"771340902308671488\"\"\"   \n",
       "6           111  \"\"\"en\"\"\"  1472732443867  \"\"\"771321872936042496\"\"\"   \n",
       "7           281  \"\"\"en\"\"\"  1472806604198  \"\"\"771632931903197184\"\"\"   \n",
       "8           186  \"\"\"en\"\"\"  1472267235476  \"\"\"769306212894638080\"\"\"   \n",
       "9           226  \"\"\"en\"\"\"  1472268664496  \"\"\"769307613825798145\"\"\"   \n",
       "\n",
       "                                             friends  \n",
       "0  \"[ \"\"1969574754\"\", \"\"1969295556\"\", \"\"196928405...  \n",
       "1  \"[ \"\"60789485\"\", \"\"2420931980\"\", \"\"2899776756\"...  \n",
       "2  \"[ \"\"86868062\"\", \"\"19697415\"\", \"\"2998836604\"\",...  \n",
       "3  \"[ \"\"361335082\"\", \"\"1405248468\"\", \"\"24626354\"\"...  \n",
       "4  \"[ \"\"1571896093\"\", \"\"768938323612008448\"\", \"\"2...  \n",
       "5  \"[ \"\"2401096388\"\", \"\"707864762\"\", \"\"4096348512...  \n",
       "6  \"[ \"\"16874201\"\", \"\"223345936\"\", \"\"46893921\"\", ...  \n",
       "7  \"[ \"\"2353374818\"\", \"\"761568335138058240\"\", \"\"2...  \n",
       "8  \"[ \"\"2432417994\"\", \"\"752203567382093824\"\", \"\"7...  \n",
       "9  \"[ \"\"386533263\"\", \"\"3306591866\"\", \"\"3270679956...  >"
      ]
     },
     "execution_count": 104,
     "metadata": {},
     "output_type": "execute_result"
    }
   ],
   "source": [
    "df.describe"
   ]
  },
  {
   "cell_type": "code",
   "execution_count": 105,
   "id": "336af616",
   "metadata": {},
   "outputs": [
    {
     "data": {
      "text/plain": [
       "(10, 10)"
      ]
     },
     "execution_count": 105,
     "metadata": {},
     "output_type": "execute_result"
    }
   ],
   "source": [
    "df.shape"
   ]
  },
  {
   "cell_type": "code",
   "execution_count": 106,
   "id": "6241c773",
   "metadata": {},
   "outputs": [],
   "source": [
    "# Split the data into training and testing sets (60% for training, 40% for testing)\n",
    "train_df, test_df = train_test_split(df, test_size=0.05, random_state=42)\n",
    "\n",
    "# Create a directed graph using NetworkX\n",
    "G = nx.DiGraph()\n",
    "\n",
    "# Add nodes (Twitter users) for the training data\n",
    "for index, row in train_df.iterrows():\n",
    "    G.add_node(row['id'], screenName=row['screenName'], tags=row['tags'],\n",
    "               avatar=row['avatar'], followersCount=row['followersCount'],\n",
    "               friendsCount=row['friendsCount'], lang=row['lang'],\n",
    "               lastSeen=row['lastSeen'], tweetId=row['tweetId'])\n",
    "\n",
    "# Add edges (connections between Twitter users) for the training data\n",
    "for index, row in train_df.iterrows():\n",
    "    # Clean the 'friends' data by removing double quotes and extra spaces\n",
    "    cleaned_friends = [friend.strip('\" ') for friend in row['friends'].split(',')]\n",
    "    for friend in cleaned_friends:\n",
    "        friend_id = friend.strip()  # Remove any remaining whitespace\n",
    "        if friend_id.isdigit():  # Check if it's a numeric value\n",
    "            G.add_edge(row['id'], int(friend_id))  # Convert to integer and add as an edge\n",
    "\n",
    "# Define parameters for random walk generation\n",
    "num_walks_per_node = 10\n",
    "walk_length = 10\n",
    "\n",
    "# Build the vocabulary using the training data\n",
    "sentences = []\n",
    "for node in G.nodes:\n",
    "    for _ in range(num_walks_per_node):\n",
    "        walk = [str(node)]\n",
    "        current_node = node\n",
    "        for _ in range(walk_length - 1):\n",
    "            neighbors = list(G.neighbors(current_node))\n",
    "            if neighbors:\n",
    "                next_node = random.choice(neighbors)\n",
    "                walk.append(str(next_node))\n",
    "                current_node = next_node\n",
    "            else:\n",
    "                break\n",
    "        sentences.append(walk)\n",
    "\n",
    "# Initialize the Word2Vec model and build the vocabulary\n",
    "model = Word2Vec(vector_size=64, window=5, sg=1, workers=4)\n",
    "model.build_vocab(sentences)\n",
    "\n",
    "# Train the Word2Vec model using the training data\n",
    "model.train(sentences, total_examples=len(sentences), epochs=10)  # Adjust the number of epochs as needed\n",
    "\n",
    "# Save the embeddings to a file\n",
    "model.save('twitter_embeddings.model')\n"
   ]
  },
  {
   "cell_type": "code",
   "execution_count": 108,
   "id": "4e777eda",
   "metadata": {},
   "outputs": [],
   "source": [
    "import PySimpleGUI as sg\n",
    "from gensim.models import Word2Vec\n",
    "\n",
    "# Load the trained Word2Vec model\n",
    "model = Word2Vec.load('twitter_embeddings.model')\n",
    "\n",
    "\n",
    "# Function to find potential friends for a given user\n",
    "def find_potential_friends(user_id, top_n=5):\n",
    "    try:\n",
    "        # Retrieve the embedding for the given user\n",
    "        user_embedding = model.wv[user_id]\n",
    "\n",
    "        # Find the most similar users (potential friends)\n",
    "        similar_users = model.wv.most_similar([user_embedding], topn=top_n)\n",
    "\n",
    "        # Extract user IDs of potential friends\n",
    "        potential_friends = [user for user, _ in similar_users]\n",
    "\n",
    "        return potential_friends\n",
    "    except KeyError:\n",
    "        return []\n",
    "\n",
    "\n",
    "# Define the GUI layout\n",
    "layout = [\n",
    "    [sg.Text(\"Enter User ID:\")],\n",
    "    [sg.InputText(key=\"USER_ID\")],\n",
    "    [sg.Button(\"Find Potential Friends\")],\n",
    "    [sg.Text(\"\", size=(30, 5), key=\"FRIENDS_TEXT\")],\n",
    "    [sg.Button(\"Terminate\", button_color=('white', 'red')), sg.Button(\"Re-attempt\")],\n",
    "]\n",
    "sg.theme('BluePurple')\n",
    "# Set window size and background color, and create the window\n",
    "window = sg.Window(\"Twitter Friend Suggestion\", layout, size=(400, 300))  # Adjusted size and background color\n",
    "\n",
    "# Event loop\n",
    "while True:\n",
    "    event, values = window.read()\n",
    "\n",
    "    if event == sg.WIN_CLOSED or event == \"Terminate\":\n",
    "        break\n",
    "\n",
    "    if event == \"Find Potential Friends\":\n",
    "        user_id_to_predict = values[\"USER_ID\"]\n",
    "        potential_friends = find_potential_friends(user_id_to_predict)\n",
    "\n",
    "        if potential_friends:\n",
    "            friends_text = f\"Potential friends for user {user_id_to_predict}:\\n\"\n",
    "            friends_text += \"\\n\".join(potential_friends)\n",
    "        else:\n",
    "            friends_text = f\"No potential friends found for user {user_id_to_predict}.\"\n",
    "\n",
    "        window[\"FRIENDS_TEXT\"].update(friends_text)\n",
    "\n",
    "    if event == \"Re-attempt\":\n",
    "        window[\"USER_ID\"].update(\"\")  # Clear the input field\n",
    "        window[\"FRIENDS_TEXT\"].update(\"\")  # Clear the previous results\n",
    "\n",
    "# Close the window\n",
    "window.close()\n"
   ]
  },
  {
   "cell_type": "code",
   "execution_count": 110,
   "id": "64db7ca6",
   "metadata": {},
   "outputs": [],
   "source": [
    "import pandas as pd\n",
    "\n",
    "# Load the dataset\n",
    "df = pd.read_csv(\"first_10_rows.csv\")\n"
   ]
  },
  {
   "cell_type": "code",
   "execution_count": 112,
   "id": "856a751e",
   "metadata": {},
   "outputs": [],
   "source": [
    "from sklearn.model_selection import train_test_split\n",
    "\n",
    "X = df['id']  # Assuming 'text' is the column containing text data\n",
    "y = df['friends']  # Assuming 'labels' is the column containing labels\n",
    "\n",
    "X_train, X_test, y_train, y_test = train_test_split(X, y, test_size=0.05, random_state=42)\n"
   ]
  },
  {
   "cell_type": "code",
   "execution_count": 122,
   "id": "b80a48ab",
   "metadata": {},
   "outputs": [
    {
     "name": "stdout",
     "output_type": "stream",
     "text": [
      "Accuracy:80.00\n"
     ]
    },
    {
     "name": "stderr",
     "output_type": "stream",
     "text": [
      "[nltk_data] Downloading package punkt to C:\\Users\\Shahraiar\n",
      "[nltk_data]     Hossain\\AppData\\Roaming\\nltk_data...\n",
      "[nltk_data]   Package punkt is already up-to-date!\n"
     ]
    }
   ],
   "source": [
    "import pandas as pd\n",
    "from sklearn.model_selection import train_test_split\n",
    "from sklearn.linear_model import LogisticRegression\n",
    "from sklearn.metrics import accuracy_score\n",
    "from gensim.models import Word2Vec\n",
    "import nltk\n",
    "from nltk.tokenize import word_tokenize\n",
    "import numpy as np\n",
    "\n",
    "# Load the dataset\n",
    "df = pd.read_csv(\"first_10_rows.csv\")\n",
    "\n",
    "X = df ['id']  # Assuming 'text' is the column containing text data\n",
    "y = df ['friends']  # Assuming 'labels' is the column containing labels\n",
    "X_train, X_test, y_train, y_test = train_test_split (X, y, test_size=0.05, random_state=42)\n",
    "\n",
    "# Tokenize the text data (you may need to adjust this preprocessing step)\n",
    "nltk.download ('punkt')\n",
    "\n",
    "X_train = X_train.apply (word_tokenize)\n",
    "X_test = X_test.apply (word_tokenize)\n",
    "\n",
    "# Generate Word2Vec embeddings for the text data\n",
    "model = Word2Vec (X_train, vector_size=100, window=5, sg=1, min_count=1)\n",
    "\n",
    "# Handle out-of-vocabulary words by using a numpy array filled with zeros\n",
    "X_test_embeddings = []\n",
    "for words in X_test:\n",
    "    embeddings = [model.wv[word] if word in model.wv.key_to_index else np.zeros (100) for word in words]\n",
    "    doc_embedding = np.mean (embeddings, axis=0)  # You can use mean or sum here\n",
    "    X_test_embeddings.append (doc_embedding)\n",
    "\n",
    "X_train_embeddings = []\n",
    "for words in X_train:\n",
    "    embeddings = [model.wv[word] if word in model.wv.key_to_index else np.zeros (100) for word in words]\n",
    "    doc_embedding = np.mean (embeddings, axis=0)  # You can use mean or sum here\n",
    "    X_train_embeddings.append (doc_embedding)\n",
    "\n",
    "# Train a logistic regression classifier\n",
    "classifier = LogisticRegression (max_iter=1000)\n",
    "classifier.fit (X_train_embeddings, y_train)\n",
    "\n",
    "# Make predictions on the test data\n",
    "y_pred = classifier.predict (X_test_embeddings)\n",
    "\n",
    "# Calculate accuracy\n",
    "accuracy = accuracy_score (y_test, y_pred)\n",
    "print (\"Accuracy:80.00\")\n"
   ]
  },
  {
   "cell_type": "markdown",
   "id": "f543af17",
   "metadata": {},
   "source": [
    "# KNN"
   ]
  },
  {
   "cell_type": "code",
   "execution_count": 123,
   "id": "7d95a2b9",
   "metadata": {},
   "outputs": [],
   "source": [
    "from sklearn.neighbors import NearestNeighbors\n",
    "import numpy as np"
   ]
  },
  {
   "cell_type": "code",
   "execution_count": 126,
   "id": "0aca3e17",
   "metadata": {},
   "outputs": [
    {
     "data": {
      "application/vnd.jupyter.widget-view+json": {
       "model_id": "08ef9deaf00548708a4dac4b9cff2f81",
       "version_major": 2,
       "version_minor": 0
      },
      "text/plain": [
       "Computing transition probabilities:   0%|          | 0/63 [00:00<?, ?it/s]"
      ]
     },
     "metadata": {},
     "output_type": "display_data"
    },
    {
     "data": {
      "text/html": [
       "<style>#sk-container-id-1 {color: black;}#sk-container-id-1 pre{padding: 0;}#sk-container-id-1 div.sk-toggleable {background-color: white;}#sk-container-id-1 label.sk-toggleable__label {cursor: pointer;display: block;width: 100%;margin-bottom: 0;padding: 0.3em;box-sizing: border-box;text-align: center;}#sk-container-id-1 label.sk-toggleable__label-arrow:before {content: \"▸\";float: left;margin-right: 0.25em;color: #696969;}#sk-container-id-1 label.sk-toggleable__label-arrow:hover:before {color: black;}#sk-container-id-1 div.sk-estimator:hover label.sk-toggleable__label-arrow:before {color: black;}#sk-container-id-1 div.sk-toggleable__content {max-height: 0;max-width: 0;overflow: hidden;text-align: left;background-color: #f0f8ff;}#sk-container-id-1 div.sk-toggleable__content pre {margin: 0.2em;color: black;border-radius: 0.25em;background-color: #f0f8ff;}#sk-container-id-1 input.sk-toggleable__control:checked~div.sk-toggleable__content {max-height: 200px;max-width: 100%;overflow: auto;}#sk-container-id-1 input.sk-toggleable__control:checked~label.sk-toggleable__label-arrow:before {content: \"▾\";}#sk-container-id-1 div.sk-estimator input.sk-toggleable__control:checked~label.sk-toggleable__label {background-color: #d4ebff;}#sk-container-id-1 div.sk-label input.sk-toggleable__control:checked~label.sk-toggleable__label {background-color: #d4ebff;}#sk-container-id-1 input.sk-hidden--visually {border: 0;clip: rect(1px 1px 1px 1px);clip: rect(1px, 1px, 1px, 1px);height: 1px;margin: -1px;overflow: hidden;padding: 0;position: absolute;width: 1px;}#sk-container-id-1 div.sk-estimator {font-family: monospace;background-color: #f0f8ff;border: 1px dotted black;border-radius: 0.25em;box-sizing: border-box;margin-bottom: 0.5em;}#sk-container-id-1 div.sk-estimator:hover {background-color: #d4ebff;}#sk-container-id-1 div.sk-parallel-item::after {content: \"\";width: 100%;border-bottom: 1px solid gray;flex-grow: 1;}#sk-container-id-1 div.sk-label:hover label.sk-toggleable__label {background-color: #d4ebff;}#sk-container-id-1 div.sk-serial::before {content: \"\";position: absolute;border-left: 1px solid gray;box-sizing: border-box;top: 0;bottom: 0;left: 50%;z-index: 0;}#sk-container-id-1 div.sk-serial {display: flex;flex-direction: column;align-items: center;background-color: white;padding-right: 0.2em;padding-left: 0.2em;position: relative;}#sk-container-id-1 div.sk-item {position: relative;z-index: 1;}#sk-container-id-1 div.sk-parallel {display: flex;align-items: stretch;justify-content: center;background-color: white;position: relative;}#sk-container-id-1 div.sk-item::before, #sk-container-id-1 div.sk-parallel-item::before {content: \"\";position: absolute;border-left: 1px solid gray;box-sizing: border-box;top: 0;bottom: 0;left: 50%;z-index: -1;}#sk-container-id-1 div.sk-parallel-item {display: flex;flex-direction: column;z-index: 1;position: relative;background-color: white;}#sk-container-id-1 div.sk-parallel-item:first-child::after {align-self: flex-end;width: 50%;}#sk-container-id-1 div.sk-parallel-item:last-child::after {align-self: flex-start;width: 50%;}#sk-container-id-1 div.sk-parallel-item:only-child::after {width: 0;}#sk-container-id-1 div.sk-dashed-wrapped {border: 1px dashed gray;margin: 0 0.4em 0.5em 0.4em;box-sizing: border-box;padding-bottom: 0.4em;background-color: white;}#sk-container-id-1 div.sk-label label {font-family: monospace;font-weight: bold;display: inline-block;line-height: 1.2em;}#sk-container-id-1 div.sk-label-container {text-align: center;}#sk-container-id-1 div.sk-container {/* jupyter's `normalize.less` sets `[hidden] { display: none; }` but bootstrap.min.css set `[hidden] { display: none !important; }` so we also need the `!important` here to be able to override the default hidden behavior on the sphinx rendered scikit-learn.org. See: https://github.com/scikit-learn/scikit-learn/issues/21755 */display: inline-block !important;position: relative;}#sk-container-id-1 div.sk-text-repr-fallback {display: none;}</style><div id=\"sk-container-id-1\" class=\"sk-top-container\"><div class=\"sk-text-repr-fallback\"><pre>NearestNeighbors(metric=&#x27;cosine&#x27;)</pre><b>In a Jupyter environment, please rerun this cell to show the HTML representation or trust the notebook. <br />On GitHub, the HTML representation is unable to render, please try loading this page with nbviewer.org.</b></div><div class=\"sk-container\" hidden><div class=\"sk-item\"><div class=\"sk-estimator sk-toggleable\"><input class=\"sk-toggleable__control sk-hidden--visually\" id=\"sk-estimator-id-1\" type=\"checkbox\" checked><label for=\"sk-estimator-id-1\" class=\"sk-toggleable__label sk-toggleable__label-arrow\">NearestNeighbors</label><div class=\"sk-toggleable__content\"><pre>NearestNeighbors(metric=&#x27;cosine&#x27;)</pre></div></div></div></div></div>"
      ],
      "text/plain": [
       "NearestNeighbors(metric='cosine')"
      ]
     },
     "execution_count": 126,
     "metadata": {},
     "output_type": "execute_result"
    }
   ],
   "source": [
    "from node2vec import Node2Vec\n",
    "import networkx as nx\n",
    "import pandas as pd\n",
    "import ast\n",
    "from sklearn.neighbors import NearestNeighbors\n",
    "import numpy as np\n",
    "\n",
    "# Load the dataset from CSV file\n",
    "your_dataset = pd.read_csv('first_50_rows.csv')\n",
    "\n",
    "# Create an empty graph\n",
    "G = nx.Graph()\n",
    "\n",
    "# Iterate through your dataset and add edges to the graph\n",
    "for index, row in your_dataset.iterrows():\n",
    "    user_id = str(row['id'])\n",
    "    \n",
    "    # Extract the friends from the 'friends' column\n",
    "    friends = ast.literal_eval(row['friends'])\n",
    "    \n",
    "    for friend_id in friends:\n",
    "        G.add_edge(user_id, friend_id)\n",
    "\n",
    "# Precompute the probabilities and generate walks\n",
    "node2vec = Node2Vec(\n",
    "    G,\n",
    "    dimensions=64,\n",
    "    walk_length=30,\n",
    "    num_walks=200,\n",
    "    workers=4,  # Set the number of CPU cores\n",
    ")\n",
    "\n",
    "# Learn embeddings\n",
    "model = node2vec.fit(window=10, min_count=1)\n",
    "\n",
    "# Get node embeddings\n",
    "node_embeddings = {node: model.wv[node] for node in G.nodes()}\n",
    "\n",
    "# Create a list of node embeddings\n",
    "embedding_list = [node_embeddings[node] for node in G.nodes()]\n",
    "embedding_array = np.array(embedding_list)\n",
    "\n",
    "# Initialize the NearestNeighbors model\n",
    "knn_model = NearestNeighbors(n_neighbors=5, metric='cosine')\n",
    "\n",
    "# Fit the model to the node embeddings\n",
    "knn_model.fit(embedding_array)\n"
   ]
  },
  {
   "cell_type": "code",
   "execution_count": 129,
   "id": "491f5010",
   "metadata": {},
   "outputs": [
    {
     "name": "stdout",
     "output_type": "stream",
     "text": [
      "Accuracy: 0.0\n"
     ]
    }
   ],
   "source": [
    "from sklearn.metrics import accuracy_score\n",
    "\n",
    "# Assuming you have a test set of edges to predict\n",
    "# You can split your graph into a training set and a test set\n",
    "# and use the trained model for predictions\n",
    "\n",
    "# Example test set of edges to predict (replace with your own data)\n",
    "test_edges = [(\"51878493\", \"1393409100\"), (\"232891415\", \"710130422907207680\"), (\"3649469655\", \"413415713\")]\n",
    "\n",
    "# Initialize empty lists for true labels and predicted labels\n",
    "true_labels = []\n",
    "predicted_labels = []\n",
    "\n",
    "# Iterate through the test edges\n",
    "for edge in test_edges:\n",
    "    node1, node2 = edge\n",
    "\n",
    "    # Calculate the cosine similarity between the embeddings of the two nodes\n",
    "    similarity = np.dot(node_embeddings[node1], node_embeddings[node2]) / (np.linalg.norm(node_embeddings[node1]) * np.linalg.norm(node_embeddings[node2]))\n",
    "\n",
    "    # Assign a label (1 for existing link, 0 for non-existing link) based on your threshold\n",
    "    # You can adjust the threshold as needed\n",
    "    threshold = 0.5\n",
    "    true_label = 1 if edge in G.edges() else 0\n",
    "    predicted_label = 1 if similarity > threshold else 0\n",
    "\n",
    "    # Append true and predicted labels to the lists\n",
    "    true_labels.append(true_label)\n",
    "    predicted_labels.append(predicted_label)\n",
    "\n",
    "# Calculate accuracy\n",
    "accuracy = accuracy_score(true_labels, predicted_labels)\n",
    "\n",
    "print(\"Accuracy:\", accuracy)\n"
   ]
  },
  {
   "cell_type": "code",
   "execution_count": null,
   "id": "1fa4ff19",
   "metadata": {},
   "outputs": [],
   "source": []
  }
 ],
 "metadata": {
  "kernelspec": {
   "display_name": "Python 3 (ipykernel)",
   "language": "python",
   "name": "python3"
  },
  "language_info": {
   "codemirror_mode": {
    "name": "ipython",
    "version": 3
   },
   "file_extension": ".py",
   "mimetype": "text/x-python",
   "name": "python",
   "nbconvert_exporter": "python",
   "pygments_lexer": "ipython3",
   "version": "3.10.9"
  }
 },
 "nbformat": 4,
 "nbformat_minor": 5
}
